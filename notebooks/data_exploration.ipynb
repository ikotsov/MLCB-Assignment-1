{
 "cells": [
  {
   "cell_type": "markdown",
   "metadata": {},
   "source": [
    "# Constants"
   ]
  },
  {
   "cell_type": "code",
   "execution_count": 60,
   "metadata": {},
   "outputs": [],
   "source": [
    "DEV_SET_PATH = '../data/assignment1_dev_set.csv'\n",
    "VAL_SET_PATH = '../data/assignment1_val_set.csv'"
   ]
  },
  {
   "cell_type": "markdown",
   "metadata": {},
   "source": [
    "# Imports"
   ]
  },
  {
   "cell_type": "code",
   "execution_count": 29,
   "metadata": {},
   "outputs": [],
   "source": [
    "import pandas as pd"
   ]
  },
  {
   "cell_type": "markdown",
   "metadata": {},
   "source": [
    "# Dev Dataset"
   ]
  },
  {
   "cell_type": "markdown",
   "metadata": {},
   "source": [
    "## Exploration"
   ]
  },
  {
   "cell_type": "markdown",
   "metadata": {},
   "source": [
    "### Load"
   ]
  },
  {
   "cell_type": "code",
   "execution_count": 85,
   "metadata": {},
   "outputs": [
    {
     "data": {
      "text/plain": [
       "(489, 141)"
      ]
     },
     "execution_count": 85,
     "metadata": {},
     "output_type": "execute_result"
    }
   ],
   "source": [
    "df = pd.read_csv(DEV_SET_PATH)\n",
    "df.shape"
   ]
  },
  {
   "cell_type": "code",
   "execution_count": 26,
   "metadata": {},
   "outputs": [
    {
     "data": {
      "text/html": [
       "<div>\n",
       "<style scoped>\n",
       "    .dataframe tbody tr th:only-of-type {\n",
       "        vertical-align: middle;\n",
       "    }\n",
       "\n",
       "    .dataframe tbody tr th {\n",
       "        vertical-align: top;\n",
       "    }\n",
       "\n",
       "    .dataframe thead th {\n",
       "        text-align: right;\n",
       "    }\n",
       "</style>\n",
       "<table border=\"1\" class=\"dataframe\">\n",
       "  <thead>\n",
       "    <tr style=\"text-align: right;\">\n",
       "      <th></th>\n",
       "      <th>Unnamed: 0</th>\n",
       "      <th>Project ID</th>\n",
       "      <th>Experiment type</th>\n",
       "      <th>Sex</th>\n",
       "      <th>Host age</th>\n",
       "      <th>BMI</th>\n",
       "      <th>Disease MESH ID</th>\n",
       "      <th>Acholeplasma axanthum</th>\n",
       "      <th>Acidaminococcus fermentans</th>\n",
       "      <th>Acidaminococcus intestini</th>\n",
       "      <th>...</th>\n",
       "      <th>Clostridium sphenoides</th>\n",
       "      <th>Clostridium spiroforme</th>\n",
       "      <th>Clostridium stercorarium</th>\n",
       "      <th>Clostridium symbiosum</th>\n",
       "      <th>Clostridium thermosuccinogenes</th>\n",
       "      <th>Clostridium xylanolyticum</th>\n",
       "      <th>Eubacterium brachy</th>\n",
       "      <th>Eubacterium dolichum</th>\n",
       "      <th>Eubacterium sulci</th>\n",
       "      <th>Ruminococcus gnavus</th>\n",
       "    </tr>\n",
       "  </thead>\n",
       "  <tbody>\n",
       "    <tr>\n",
       "      <th>0</th>\n",
       "      <td>0</td>\n",
       "      <td>PRJEB11419</td>\n",
       "      <td>Metagenomics</td>\n",
       "      <td>Male</td>\n",
       "      <td>53.0</td>\n",
       "      <td>19.01</td>\n",
       "      <td>D006262</td>\n",
       "      <td>0.000000</td>\n",
       "      <td>0.000000</td>\n",
       "      <td>0.000000</td>\n",
       "      <td>...</td>\n",
       "      <td>0.005891</td>\n",
       "      <td>0.029457</td>\n",
       "      <td>0.000000</td>\n",
       "      <td>0.000000</td>\n",
       "      <td>0.002946</td>\n",
       "      <td>0.000000</td>\n",
       "      <td>0.000000</td>\n",
       "      <td>0.000000</td>\n",
       "      <td>0.002946</td>\n",
       "      <td>0.100153</td>\n",
       "    </tr>\n",
       "    <tr>\n",
       "      <th>1</th>\n",
       "      <td>1</td>\n",
       "      <td>PRJNA388263</td>\n",
       "      <td>Metagenomics</td>\n",
       "      <td>Female</td>\n",
       "      <td>21.0</td>\n",
       "      <td>23.50</td>\n",
       "      <td>D006262</td>\n",
       "      <td>0.001028</td>\n",
       "      <td>0.000000</td>\n",
       "      <td>0.000000</td>\n",
       "      <td>...</td>\n",
       "      <td>0.000000</td>\n",
       "      <td>0.002569</td>\n",
       "      <td>0.412652</td>\n",
       "      <td>0.003083</td>\n",
       "      <td>0.000000</td>\n",
       "      <td>0.000000</td>\n",
       "      <td>0.008736</td>\n",
       "      <td>0.014903</td>\n",
       "      <td>0.077597</td>\n",
       "      <td>0.004625</td>\n",
       "    </tr>\n",
       "    <tr>\n",
       "      <th>2</th>\n",
       "      <td>2</td>\n",
       "      <td>PRJNA388263</td>\n",
       "      <td>Metagenomics</td>\n",
       "      <td>Male</td>\n",
       "      <td>52.0</td>\n",
       "      <td>25.80</td>\n",
       "      <td>D006262</td>\n",
       "      <td>0.001406</td>\n",
       "      <td>0.000000</td>\n",
       "      <td>0.000000</td>\n",
       "      <td>...</td>\n",
       "      <td>0.000000</td>\n",
       "      <td>0.005624</td>\n",
       "      <td>0.002812</td>\n",
       "      <td>0.007031</td>\n",
       "      <td>0.000000</td>\n",
       "      <td>0.000000</td>\n",
       "      <td>0.000000</td>\n",
       "      <td>0.000000</td>\n",
       "      <td>0.005624</td>\n",
       "      <td>0.016873</td>\n",
       "    </tr>\n",
       "    <tr>\n",
       "      <th>3</th>\n",
       "      <td>3</td>\n",
       "      <td>PRJEB11419</td>\n",
       "      <td>Metagenomics</td>\n",
       "      <td>Female</td>\n",
       "      <td>40.0</td>\n",
       "      <td>23.49</td>\n",
       "      <td>D006262</td>\n",
       "      <td>0.000000</td>\n",
       "      <td>0.008825</td>\n",
       "      <td>0.273562</td>\n",
       "      <td>...</td>\n",
       "      <td>0.017649</td>\n",
       "      <td>0.198553</td>\n",
       "      <td>0.000000</td>\n",
       "      <td>0.158842</td>\n",
       "      <td>0.030886</td>\n",
       "      <td>0.101483</td>\n",
       "      <td>0.000000</td>\n",
       "      <td>0.000000</td>\n",
       "      <td>0.000000</td>\n",
       "      <td>0.000000</td>\n",
       "    </tr>\n",
       "    <tr>\n",
       "      <th>4</th>\n",
       "      <td>4</td>\n",
       "      <td>PRJEB11419</td>\n",
       "      <td>Metagenomics</td>\n",
       "      <td>Female</td>\n",
       "      <td>30.0</td>\n",
       "      <td>22.60</td>\n",
       "      <td>D006262</td>\n",
       "      <td>0.002878</td>\n",
       "      <td>0.037419</td>\n",
       "      <td>7.359970</td>\n",
       "      <td>...</td>\n",
       "      <td>0.305106</td>\n",
       "      <td>0.135283</td>\n",
       "      <td>0.000000</td>\n",
       "      <td>0.051811</td>\n",
       "      <td>0.054689</td>\n",
       "      <td>0.083473</td>\n",
       "      <td>0.020148</td>\n",
       "      <td>0.000000</td>\n",
       "      <td>0.054689</td>\n",
       "      <td>0.011513</td>\n",
       "    </tr>\n",
       "  </tbody>\n",
       "</table>\n",
       "<p>5 rows × 141 columns</p>\n",
       "</div>"
      ],
      "text/plain": [
       "   Unnamed: 0   Project ID Experiment type     Sex  Host age    BMI  \\\n",
       "0           0   PRJEB11419    Metagenomics    Male      53.0  19.01   \n",
       "1           1  PRJNA388263    Metagenomics  Female      21.0  23.50   \n",
       "2           2  PRJNA388263    Metagenomics    Male      52.0  25.80   \n",
       "3           3   PRJEB11419    Metagenomics  Female      40.0  23.49   \n",
       "4           4   PRJEB11419    Metagenomics  Female      30.0  22.60   \n",
       "\n",
       "  Disease MESH ID  Acholeplasma axanthum  Acidaminococcus fermentans  \\\n",
       "0         D006262               0.000000                    0.000000   \n",
       "1         D006262               0.001028                    0.000000   \n",
       "2         D006262               0.001406                    0.000000   \n",
       "3         D006262               0.000000                    0.008825   \n",
       "4         D006262               0.002878                    0.037419   \n",
       "\n",
       "   Acidaminococcus intestini  ...  Clostridium sphenoides  \\\n",
       "0                   0.000000  ...                0.005891   \n",
       "1                   0.000000  ...                0.000000   \n",
       "2                   0.000000  ...                0.000000   \n",
       "3                   0.273562  ...                0.017649   \n",
       "4                   7.359970  ...                0.305106   \n",
       "\n",
       "   Clostridium spiroforme  Clostridium stercorarium  Clostridium symbiosum  \\\n",
       "0                0.029457                  0.000000               0.000000   \n",
       "1                0.002569                  0.412652               0.003083   \n",
       "2                0.005624                  0.002812               0.007031   \n",
       "3                0.198553                  0.000000               0.158842   \n",
       "4                0.135283                  0.000000               0.051811   \n",
       "\n",
       "   Clostridium thermosuccinogenes  Clostridium xylanolyticum  \\\n",
       "0                        0.002946                   0.000000   \n",
       "1                        0.000000                   0.000000   \n",
       "2                        0.000000                   0.000000   \n",
       "3                        0.030886                   0.101483   \n",
       "4                        0.054689                   0.083473   \n",
       "\n",
       "   Eubacterium brachy  Eubacterium dolichum  Eubacterium sulci  \\\n",
       "0            0.000000              0.000000           0.002946   \n",
       "1            0.008736              0.014903           0.077597   \n",
       "2            0.000000              0.000000           0.005624   \n",
       "3            0.000000              0.000000           0.000000   \n",
       "4            0.020148              0.000000           0.054689   \n",
       "\n",
       "   Ruminococcus gnavus  \n",
       "0             0.100153  \n",
       "1             0.004625  \n",
       "2             0.016873  \n",
       "3             0.000000  \n",
       "4             0.011513  \n",
       "\n",
       "[5 rows x 141 columns]"
      ]
     },
     "execution_count": 26,
     "metadata": {},
     "output_type": "execute_result"
    }
   ],
   "source": [
    "df.head()"
   ]
  },
  {
   "cell_type": "markdown",
   "metadata": {},
   "source": [
    "### Duplicates"
   ]
  },
  {
   "cell_type": "code",
   "execution_count": 11,
   "metadata": {},
   "outputs": [
    {
     "data": {
      "text/plain": [
       "False"
      ]
     },
     "execution_count": 11,
     "metadata": {},
     "output_type": "execute_result"
    }
   ],
   "source": [
    "df.duplicated().any()"
   ]
  },
  {
   "cell_type": "markdown",
   "metadata": {},
   "source": [
    "### Missing Values"
   ]
  },
  {
   "cell_type": "code",
   "execution_count": 87,
   "metadata": {},
   "outputs": [
    {
     "name": "stdout",
     "output_type": "stream",
     "text": [
      "[]\n"
     ]
    }
   ],
   "source": [
    "missing_values_col = list()\n",
    "for col in df.columns:\n",
    "    if (df[col].isnull().any()):\n",
    "        missing_values_col.append(col)\n",
    "\n",
    "print(missing_values_col)"
   ]
  },
  {
   "cell_type": "markdown",
   "metadata": {},
   "source": [
    "### Info"
   ]
  },
  {
   "cell_type": "code",
   "execution_count": 19,
   "metadata": {},
   "outputs": [
    {
     "name": "stdout",
     "output_type": "stream",
     "text": [
      "<class 'pandas.core.frame.DataFrame'>\n",
      "RangeIndex: 489 entries, 0 to 488\n",
      "Columns: 141 entries, Unnamed: 0 to Ruminococcus gnavus\n",
      "dtypes: float64(136), int64(1), object(4)\n",
      "memory usage: 538.8+ KB\n"
     ]
    }
   ],
   "source": [
    "df.info()"
   ]
  },
  {
   "cell_type": "markdown",
   "metadata": {},
   "source": [
    "### Same Value"
   ]
  },
  {
   "cell_type": "code",
   "execution_count": 74,
   "metadata": {},
   "outputs": [
    {
     "data": {
      "text/plain": [
       "1"
      ]
     },
     "execution_count": 74,
     "metadata": {},
     "output_type": "execute_result"
    }
   ],
   "source": [
    "df['Experiment type'].nunique()"
   ]
  },
  {
   "cell_type": "code",
   "execution_count": 70,
   "metadata": {},
   "outputs": [
    {
     "data": {
      "text/plain": [
       "1"
      ]
     },
     "execution_count": 70,
     "metadata": {},
     "output_type": "execute_result"
    }
   ],
   "source": [
    "df['Disease MESH ID'].nunique()"
   ]
  },
  {
   "cell_type": "markdown",
   "metadata": {},
   "source": [
    "## Cleaning"
   ]
  },
  {
   "cell_type": "code",
   "execution_count": 75,
   "metadata": {},
   "outputs": [
    {
     "data": {
      "text/plain": [
       "(489, 135)"
      ]
     },
     "execution_count": 75,
     "metadata": {},
     "output_type": "execute_result"
    }
   ],
   "source": [
    "df_final = df.drop(columns=[df.columns[0], 'Project ID', 'Experiment type', 'Sex', 'Host age', 'Disease MESH ID'])\n",
    "df_final.shape"
   ]
  },
  {
   "cell_type": "markdown",
   "metadata": {},
   "source": [
    "# Val Dataset"
   ]
  }
 ],
 "metadata": {
  "kernelspec": {
   "display_name": "Python 3 (ipykernel)",
   "language": "python",
   "name": "python3"
  },
  "language_info": {
   "codemirror_mode": {
    "name": "ipython",
    "version": 3
   },
   "file_extension": ".py",
   "mimetype": "text/x-python",
   "name": "python",
   "nbconvert_exporter": "python",
   "pygments_lexer": "ipython3",
   "version": "3.8.15"
  }
 },
 "nbformat": 4,
 "nbformat_minor": 4
}
